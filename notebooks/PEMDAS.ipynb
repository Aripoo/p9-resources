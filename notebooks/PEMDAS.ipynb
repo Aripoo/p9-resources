{
 "cells": [
  {
   "cell_type": "markdown",
   "metadata": {},
   "source": [
    "# P.E.M.D.A.S.\n",
    "\n",
    "Order of Operations is an important skill taught to us as children when learning math.  A way our teachers taught us to memorize it was by saying: Please Excuse My Dear Aunt Sally. This stood for PEMDAS which stood for: Parenthesis, Exponents, Multiplication, Division, Addition, and Subtraction.  It is the order in which a math problem is to be solved.\n",
    "\n",
    "An example of the use of PEMDAS would be:\n",
    "\n",
    "$2\\times 2^2+(6\\times3)-2$\n",
    "\n",
    "You begin with the numbers in Parennthesis.\n",
    "\n",
    "$2\\times2^2+18-2$\n",
    "\n",
    "Then proceed with Exponents.\n",
    "\n",
    "$2\\times4+18-2$\n",
    "\n",
    "Then Multiplication.\n",
    "\n",
    "$8+18-2$\n",
    "\n",
    "Skip Division since there is none in the problem and proceed to Addition.\n",
    "\n",
    "$24-2$\n",
    "\n",
    "Then all that is left is to subtract and the problem is done.\n",
    "\n",
    "$22$ is the answer\n",
    "\n"
   ]
  },
  {
   "cell_type": "markdown",
   "metadata": {},
   "source": [
    "Contributed by Daniela Fernandez"
   ]
  }
 ],
 "metadata": {
  "kernelspec": {
   "display_name": "Python 3",
   "language": "python",
   "name": "python3"
  },
  "language_info": {
   "codemirror_mode": {
    "name": "ipython",
    "version": 3
   },
   "file_extension": ".py",
   "mimetype": "text/x-python",
   "name": "python",
   "nbconvert_exporter": "python",
   "pygments_lexer": "ipython3",
   "version": "3.4.4"
  }
 },
 "nbformat": 4,
 "nbformat_minor": 0
}
