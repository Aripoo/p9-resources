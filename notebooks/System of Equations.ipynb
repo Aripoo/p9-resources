{
 "cells": [
  {
   "cell_type": "markdown",
   "metadata": {},
   "source": [
    "# Solving Systems of Equations\n",
    "    \n",
    "   Lets look at solving systems of equations\n",
    "    \n",
    "### Elimination\n",
    "    \n",
    "   We will begin with Elimination\n",
    "    \n",
    "   The idea behind elimination is that we will add equations together to eliminate a variable. \n",
    "    \n",
    "   So lets look at these equations \n",
    "            \n",
    "$$x - 3y = 10$$\n",
    "$$4x + 3y = 1$$\n",
    "\n",
    "Using the elimination method we set this up like a normal addition.        \n",
    "$$ x - 3y = 10$$ \n",
    "The -3y and +3y will equal out to 0\n",
    "$$ 4x + 3y = 1 $$\n",
    "Adding the two equations, we get: \n",
    " $$5x     = 11$$\n",
    "Now Just solve for x\n",
    "         \n",
    "            5x = 11      Divide both sides by 5\n",
    "            \n",
    "$$\\frac{5x}{5} = \\frac{11}{5}$$\n",
    "             \n",
    "$$ x =  \\frac{11}{5}$$\n",
    "   \n",
    "    Substitute x = 3 into one of the oiginal equations and solve for the other varible.               \n",
    "$$x - 3y = 10$$\n",
    "$$ x =  \\frac{11}{5} - 3y = 10$$      Solve for y\n",
    "$$-3y  = \\frac{39}{5}$$\n",
    "$$y = -\\frac{13}{5}$$\n",
    "       \n",
    "    So the answer to this set of systems of equations are\n",
    "$$x = \\frac{11}{5}$$\n",
    "$$y = -\\frac{13}{5}$$\n",
    "\n",
    "##Subtitution\n",
    "\n",
    "So lets take the same example but this time solve using substitution:\n",
    "$$x - 3y = 10$$\n",
    "$$4x + 3y = 1$$\n",
    "\n",
    "But this time we will take one of the equations and solve for a variable.\n",
    "Lets take the first one\n",
    "$$x - 3y = 10$$\n",
    "And solve for x\n",
    "$$x = 3y + 10$$\n",
    "And lets subtitute this value for x into the second equation\n",
    "$$4(3y + 10) + 3y = 1$$\n",
    "Now we can solve for y\n",
    "$$12y + 40 + 3y = 1$$\n",
    "$$15y = -39$$\n",
    "$$y = -\\frac{39}{15}= -\\frac{13}{5}$$\n",
    "Substitute and solve for x in one of the equations\n",
    "$$x - 3(-\\frac{13}{5}) = 10$$\n",
    "$$x + \\frac{39}{5} = 10$$\n",
    "$$x =\\frac{11}{5}$$\n",
    "\n",
    "So the anwser to this set of equations are:\n",
    "$$x = \\frac{11}{5}$$\n",
    "$$ y = -\\frac{13}{5}$$"
   ]
  },
  {
   "cell_type": "code",
   "execution_count": null,
   "metadata": {
    "collapsed": true
   },
   "outputs": [],
   "source": []
  }
 ],
 "metadata": {
  "kernelspec": {
   "display_name": "Python 3",
   "language": "python",
   "name": "python3"
  },
  "language_info": {
   "codemirror_mode": {
    "name": "ipython",
    "version": 3
   },
   "file_extension": ".py",
   "mimetype": "text/x-python",
   "name": "python",
   "nbconvert_exporter": "python",
   "pygments_lexer": "ipython3",
   "version": "3.4.3"
  }
 },
 "nbformat": 4,
 "nbformat_minor": 0
}
