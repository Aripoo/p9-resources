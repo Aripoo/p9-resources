{
 "cells": [
  {
   "cell_type": "markdown",
   "metadata": {},
   "source": [
    "# Incline simulation"
   ]
  },
  {
   "cell_type": "markdown",
   "metadata": {},
   "source": [
    "Code for an ball rolling down an incline."
   ]
  },
  {
   "cell_type": "code",
   "execution_count": 1,
   "metadata": {
    "collapsed": true
   },
   "outputs": [],
   "source": [
    "import matplotlib.pyplot as plt\n",
    "from matplotlib.patches import Circle, Rectangle\n",
    "import matplotlib.animation as animation\n",
    "import numpy as np\n",
    "from scipy.integrate import odeint\n",
    "import math as m\n",
    "\n",
    "# Simulating a projectile in one dimension\n",
    "\n",
    "# Constants and Parameters #\n",
    "#==========================#\n",
    "g = 2         #acceleration due to gravity\n",
    "y_i = 10        #initial y position\n",
    "vy_i = 0         #initial velocity\n",
    "t = 10           #time to simulate motion\n",
    "\n",
    "O = m.pi/2.4        #Angle in radians\n",
    "a = g * m.sin(O)    #acceleration in the x\n",
    "x_i = 0                 #\n",
    "vx_i = vy_i * m.sin(O)\n",
    "\n",
    "init = np.array([y_i, vy_i, x_i, vx_i])\n",
    "times = np.linspace(0, t, 30*t)\n",
    "\n",
    "def change(z,t):\n",
    "   return np.array([z[1],-g,z[3],a])\n",
    "\n",
    "sols = odeint(change, init, times)\n",
    "\n",
    "y = sols[:,0]\n",
    "x = sols[:,2]\n",
    "\n",
    "fig = plt.figure()\n",
    "ax = fig.add_subplot(111, xlim=(1,8), ylim=(3,8), aspect='equal')\n",
    "ax.grid()\n",
    "\n",
    "ball = Circle((0,10), radius=.25, fc='r')\n",
    "\n",
    "\n",
    "def init():\n",
    "   ax.add_patch(ball)\n",
    "   plt.plot([0,9.25],[9.6,0],lw=4)\n",
    "   return\n",
    "\n",
    "def animate(i):\n",
    "   global y\n",
    "   global x\n",
    "   ball.center = (x[i], y[i])\n",
    "   return\n",
    "\n",
    "ani = animation.FuncAnimation(fig, animate, frames=30*t, interval=1, blit=False, init_func=init)\n",
    "plt.show()\n"
   ]
  }
 ],
 "metadata": {
  "kernelspec": {
   "display_name": "Python 3",
   "language": "python",
   "name": "python3"
  },
  "language_info": {
   "codemirror_mode": {
    "name": "ipython",
    "version": 3
   },
   "file_extension": ".py",
   "mimetype": "text/x-python",
   "name": "python",
   "nbconvert_exporter": "python",
   "pygments_lexer": "ipython3",
   "version": "3.4.3"
  }
 },
 "nbformat": 4,
 "nbformat_minor": 0
}
